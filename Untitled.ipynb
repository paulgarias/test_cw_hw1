{
 "cells": [
  {
   "cell_type": "markdown",
   "id": "fc995474",
   "metadata": {},
   "source": [
    "## Using Splinter and Beautiful Soup to scrape product information from Home Depot Website"
   ]
  },
  {
   "cell_type": "markdown",
   "id": "2ed7d39e",
   "metadata": {},
   "source": [
    "### Beautiful Soup\n",
    "\n",
    "[Beautiful Soup](https://beautiful-soup-4.readthedocs.io/en/latest/) is a Python library for pulling data out of HTML and XML files. It works with your favorite parser to provide idiomatic ways of navigating, searching, and modifying the parse tree. It commonly saves programmers hours or days of work.\n",
    "\n",
    "### Splinter\n",
    "[Splinter](https://splinter.readthedocs.io/en/latest/) is an open source tool for testing web applications using Python. It lets you automate browser actions, such as visiting URLs and interacting with their items.\n",
    "\n",
    "### Webdriver manager\n",
    "\n",
    "[Webdriver manager](https://pypi.org/project/webdriver-manager/) library provides the way to automatically manage drivers for different browsers. To install, you need to run `pip install webdriver-manager` after activating your conda environment."
   ]
  },
  {
   "cell_type": "code",
   "execution_count": 1,
   "id": "bdabfc34",
   "metadata": {},
   "outputs": [],
   "source": [
    "from bs4 import BeautifulSoup as bs\n",
    "from splinter import Browser\n",
    "from webdriver_manager.chrome import ChromeDriverManager\n",
    "import time"
   ]
  },
  {
   "cell_type": "code",
   "execution_count": 2,
   "id": "72a475b6",
   "metadata": {},
   "outputs": [
    {
     "name": "stderr",
     "output_type": "stream",
     "text": [
      "\n",
      "\n",
      "====== WebDriver manager ======\n",
      "Current google-chrome version is 99.0.4844\n",
      "Get LATEST chromedriver version for 99.0.4844 google-chrome\n",
      "Trying to download new driver from https://chromedriver.storage.googleapis.com/99.0.4844.51/chromedriver_mac64.zip\n",
      "Driver has been saved in cache [/Users/pgarias/.wdm/drivers/chromedriver/mac64/99.0.4844.51]\n"
     ]
    }
   ],
   "source": [
    "executable_path = {'executable_path': ChromeDriverManager().install()}"
   ]
  },
  {
   "cell_type": "code",
   "execution_count": 3,
   "id": "0a16a063",
   "metadata": {},
   "outputs": [],
   "source": [
    "browser = Browser('chrome', **executable_path, headless=False)\n"
   ]
  },
  {
   "cell_type": "markdown",
   "id": "9df6e612",
   "metadata": {},
   "source": [
    "### Home Depot Search \n",
    "\n",
    "The objective is to design a URL and base URL combination that allows for a search term. The result of the call is displayed in a new browser that is initialized by the `Browser` call above.\n"
   ]
  },
  {
   "cell_type": "code",
   "execution_count": 4,
   "id": "5a4517e1",
   "metadata": {},
   "outputs": [
    {
     "name": "stdout",
     "output_type": "stream",
     "text": [
      "https://www.homedepot.com/s/mosaic tile\n"
     ]
    }
   ],
   "source": [
    "base_url = \"https://www.homedepot.com/s/\"\n",
    "search_term = \"mosaic tile\"\n",
    "\n",
    "url = f\"{base_url}{search_term}\"\n",
    "print(url)"
   ]
  },
  {
   "cell_type": "code",
   "execution_count": 5,
   "id": "d9a8a28e",
   "metadata": {},
   "outputs": [],
   "source": [
    "# Add some time to pause after url visit and after scroll down \n",
    "\n",
    "browser.visit(url)\n",
    "time.sleep(2)"
   ]
  },
  {
   "cell_type": "code",
   "execution_count": 6,
   "id": "5c520263",
   "metadata": {},
   "outputs": [],
   "source": [
    "browser.execute_script(\"window.scrollTo(0, document.body.scrollHeight/1.5);\")\n",
    "time.sleep(2)"
   ]
  },
  {
   "cell_type": "markdown",
   "id": "eb5bd7b9",
   "metadata": {},
   "source": [
    "### Parse the current page to Beautiful Soup\n",
    "\n",
    "We can now pass the the html of the rendered page to the [beautiful soup object](https://beautiful-soup-4.readthedocs.io/en/latest/#quick-start) and [look for all](https://beautiful-soup-4.readthedocs.io/en/latest/index.html?highlight=find_all#find-all) the products displayed. Each page by default requests 24 products pods."
   ]
  },
  {
   "cell_type": "code",
   "execution_count": 7,
   "id": "dd1fb824",
   "metadata": {},
   "outputs": [],
   "source": [
    "html = browser.html\n",
    "soup = bs(html,'html.parser')\n"
   ]
  },
  {
   "cell_type": "code",
   "execution_count": 8,
   "id": "50ec887d",
   "metadata": {},
   "outputs": [],
   "source": [
    "product_details = soup.find_all(\"h2\", class_=\"product-pod__title product-pod__title__product\")"
   ]
  },
  {
   "cell_type": "code",
   "execution_count": 9,
   "id": "cec687c3",
   "metadata": {},
   "outputs": [
    {
     "data": {
      "text/plain": [
       "24"
      ]
     },
     "execution_count": 9,
     "metadata": {},
     "output_type": "execute_result"
    }
   ],
   "source": [
    "len(soup.find_all(\"h2\", class_=\"product-pod__title product-pod__title__product\"))"
   ]
  },
  {
   "cell_type": "markdown",
   "id": "10a70f86",
   "metadata": {},
   "source": [
    "Count how often the product pod contains a span with the brand name \"merola tile\"."
   ]
  },
  {
   "cell_type": "code",
   "execution_count": 16,
   "id": "fefda31e",
   "metadata": {},
   "outputs": [
    {
     "name": "stdout",
     "output_type": "stream",
     "text": [
      "Merola Tile\n",
      "Merola Tile\n",
      "Merola Tile\n"
     ]
    }
   ],
   "source": [
    "count_merola = 0\n",
    "\n",
    "for prod in product_details:\n",
    "    if prod.find_all(\"span\")[0].text.lower().strip()==\"merola tile\":\n",
    "        print(prod.find_all(\"span\")[0].text)\n",
    "        count_merola += 1"
   ]
  },
  {
   "cell_type": "markdown",
   "id": "3048f03b",
   "metadata": {},
   "source": [
    "Use the `browser` object to [find an anchor tag with the attribute](https://stackoverflow.com/a/40161280) `aria-label=Next`. This will allow you to click on the next page to grab more results and to repeat the count search again. "
   ]
  },
  {
   "cell_type": "code",
   "execution_count": 17,
   "id": "2db9d9ee",
   "metadata": {},
   "outputs": [],
   "source": [
    "button_c = browser.find_by_css('a[aria-label=Next]')\n",
    "button_c.click()"
   ]
  },
  {
   "cell_type": "code",
   "execution_count": null,
   "id": "95df9473",
   "metadata": {},
   "outputs": [],
   "source": []
  },
  {
   "cell_type": "markdown",
   "id": "3cfe6920",
   "metadata": {},
   "source": [
    "Need to test when you reach the final page"
   ]
  },
  {
   "cell_type": "code",
   "execution_count": 19,
   "id": "f1662a9f",
   "metadata": {},
   "outputs": [],
   "source": [
    "pagination_results = soup.find_all(\"span\",class_=\"results-pagination__counts--number\")"
   ]
  },
  {
   "cell_type": "code",
   "execution_count": 20,
   "id": "10c3c5e5",
   "metadata": {},
   "outputs": [],
   "source": [
    "page_count_product = int(pagination_results[0].text.split(\"-\")[1].strip())"
   ]
  },
  {
   "cell_type": "code",
   "execution_count": 21,
   "id": "3c85e000",
   "metadata": {},
   "outputs": [],
   "source": [
    "total_products = int(pagination_results[1].text.strip())"
   ]
  },
  {
   "cell_type": "code",
   "execution_count": 22,
   "id": "0fc6f7ff",
   "metadata": {},
   "outputs": [
    {
     "name": "stdout",
     "output_type": "stream",
     "text": [
      "Keep going\n"
     ]
    }
   ],
   "source": [
    "if page_count_product==total_products:\n",
    "    print(\"Last page\")\n",
    "else:\n",
    "    print(\"Keep going\")"
   ]
  },
  {
   "cell_type": "code",
   "execution_count": 27,
   "id": "bf256aef",
   "metadata": {},
   "outputs": [],
   "source": [
    "browser.quit()"
   ]
  },
  {
   "cell_type": "markdown",
   "id": "3e3875ef",
   "metadata": {},
   "source": [
    "### Composing a solution "
   ]
  },
  {
   "cell_type": "code",
   "execution_count": 104,
   "id": "f924b720",
   "metadata": {},
   "outputs": [],
   "source": [
    "# from selenium.webdriver.support import expected_conditions\n",
    "# from selenium.webdriver.common.by import By\n",
    "# from selenium.webdriver.support.ui import WebDriverWait"
   ]
  },
  {
   "cell_type": "code",
   "execution_count": null,
   "id": "6e3f15f8",
   "metadata": {},
   "outputs": [],
   "source": []
  },
  {
   "cell_type": "code",
   "execution_count": 28,
   "id": "cc4abeae",
   "metadata": {},
   "outputs": [
    {
     "name": "stderr",
     "output_type": "stream",
     "text": [
      "\n",
      "\n",
      "====== WebDriver manager ======\n",
      "Current google-chrome version is 99.0.4844\n",
      "Get LATEST chromedriver version for 99.0.4844 google-chrome\n",
      "Driver [/Users/pgarias/.wdm/drivers/chromedriver/mac64/99.0.4844.51/chromedriver] found in cache\n"
     ]
    }
   ],
   "source": [
    "executable_path = {'executable_path': ChromeDriverManager().install()}"
   ]
  },
  {
   "cell_type": "code",
   "execution_count": 29,
   "id": "d83cac20",
   "metadata": {},
   "outputs": [],
   "source": [
    "browser = Browser('chrome', **executable_path, headless=False)\n",
    "browser.driver.maximize_window()"
   ]
  },
  {
   "cell_type": "code",
   "execution_count": null,
   "id": "8866f6e6",
   "metadata": {},
   "outputs": [],
   "source": []
  },
  {
   "cell_type": "code",
   "execution_count": 30,
   "id": "dadb801c",
   "metadata": {},
   "outputs": [
    {
     "name": "stdout",
     "output_type": "stream",
     "text": [
      "Merola Tile\n",
      "Merola Tile\n",
      "Merola Tile\n",
      "Keep going\n",
      "Merola Tile\n",
      "Keep going\n",
      "Merola Tile\n",
      "Merola Tile\n",
      "Keep going\n",
      "Merola Tile\n",
      "Keep going\n",
      "Merola Tile\n",
      "Merola Tile\n",
      "Merola Tile\n",
      "Keep going\n",
      "Merola Tile\n",
      "Keep going\n",
      "Merola Tile\n",
      "Merola Tile\n",
      "Merola Tile\n",
      "Merola Tile\n",
      "Merola Tile\n",
      "Keep going\n",
      "Merola Tile\n",
      "Merola Tile\n",
      "Merola Tile\n",
      "Keep going\n"
     ]
    },
    {
     "ename": "KeyboardInterrupt",
     "evalue": "",
     "output_type": "error",
     "traceback": [
      "\u001b[0;31m---------------------------------------------------------------------------\u001b[0m",
      "\u001b[0;31mKeyboardInterrupt\u001b[0m                         Traceback (most recent call last)",
      "\u001b[0;32m<ipython-input-30-4438241334d9>\u001b[0m in \u001b[0;36m<module>\u001b[0;34m\u001b[0m\n\u001b[1;32m     41\u001b[0m         \u001b[0mprint\u001b[0m\u001b[0;34m(\u001b[0m\u001b[0;34m\"Keep going\"\u001b[0m\u001b[0;34m)\u001b[0m\u001b[0;34m\u001b[0m\u001b[0;34m\u001b[0m\u001b[0m\n\u001b[1;32m     42\u001b[0m         \u001b[0;31m#browser.execute_script(\"window.scrollTo(0, document.body.scrollHeight);\")\u001b[0m\u001b[0;34m\u001b[0m\u001b[0;34m\u001b[0m\u001b[0;34m\u001b[0m\u001b[0m\n\u001b[0;32m---> 43\u001b[0;31m         \u001b[0mtime\u001b[0m\u001b[0;34m.\u001b[0m\u001b[0msleep\u001b[0m\u001b[0;34m(\u001b[0m\u001b[0;36m2\u001b[0m\u001b[0;34m)\u001b[0m\u001b[0;34m\u001b[0m\u001b[0;34m\u001b[0m\u001b[0m\n\u001b[0m\u001b[1;32m     44\u001b[0m         \u001b[0mbutton_c\u001b[0m \u001b[0;34m=\u001b[0m \u001b[0mbrowser\u001b[0m\u001b[0;34m.\u001b[0m\u001b[0mfind_by_css\u001b[0m\u001b[0;34m(\u001b[0m\u001b[0;34m'a[aria-label=Next]'\u001b[0m\u001b[0;34m)\u001b[0m\u001b[0;34m\u001b[0m\u001b[0;34m\u001b[0m\u001b[0m\n\u001b[1;32m     45\u001b[0m         \u001b[0;31m#button_c.scroll_to()\u001b[0m\u001b[0;34m\u001b[0m\u001b[0;34m\u001b[0m\u001b[0;34m\u001b[0m\u001b[0m\n",
      "\u001b[0;31mKeyboardInterrupt\u001b[0m: "
     ]
    }
   ],
   "source": [
    "base_url = \"https://www.homedepot.com/s/\"\n",
    "search_term = \"mosaic tile\"\n",
    "\n",
    "url = f\"{base_url}{search_term}\"\n",
    "\n",
    "# Add some time to pause after url visit and after scroll down \n",
    "\n",
    "browser.visit(url)\n",
    "time.sleep(2)\n",
    "\n",
    "count_merola = 0\n",
    "\n",
    "cont = True\n",
    "\n",
    "while(cont):\n",
    "    browser.execute_script(\"window.scrollTo(0, document.body.scrollHeight/5);\")\n",
    "    time.sleep(2)\n",
    "    browser.execute_script(\"window.scrollTo(0, document.body.scrollHeight/5*2);\")\n",
    "    time.sleep(2)\n",
    "    browser.execute_script(\"window.scrollTo(0, document.body.scrollHeight/5*3);\")\n",
    "    time.sleep(2)\n",
    "    browser.execute_script(\"window.scrollTo(0, document.body.scrollHeight/5*4);\")\n",
    "    time.sleep(2)\n",
    "    browser.execute_script(\"window.scrollTo(0, document.body.scrollHeight/5*5);\")\n",
    "    time.sleep(2)\n",
    "    browser.execute_script(\"window.scrollTo(0, document.body.scrollHeight/5*2.7);\")\n",
    "    time.sleep(2)\n",
    "    #WebDriverWait(browser, 10).until(expected_conditions.visibility_of_element_located((By.CSS_SELECTOR,)))\n",
    "    html = browser.html\n",
    "    soup = bs(html,'html.parser')\n",
    "    product_details = soup.find_all(\"h2\", class_=\"product-pod__title product-pod__title__product\")\n",
    "    \n",
    "    for prod in product_details:\n",
    "        if prod.find_all(\"span\")[0].text.lower().strip()==\"merola tile\":\n",
    "            print(prod.find_all(\"span\")[0].text)\n",
    "            count_merola += 1\n",
    "    pagination_results = soup.find_all(\"span\",class_=\"results-pagination__counts--number\")\n",
    "    page_count_product = int(pagination_results[0].text.split(\"-\")[1].strip())\n",
    "    total_products = int(pagination_results[1].text.strip())\n",
    "    if page_count_product!=total_products:\n",
    "        print(\"Keep going\")\n",
    "        #browser.execute_script(\"window.scrollTo(0, document.body.scrollHeight);\")\n",
    "        time.sleep(2)\n",
    "        button_c = browser.find_by_css('a[aria-label=Next]')\n",
    "        #button_c.scroll_to()\n",
    "        time.sleep(5)\n",
    "        button_c.first.click()\n",
    "    else:\n",
    "        print(\"Done\")\n",
    "        cont=False"
   ]
  },
  {
   "cell_type": "code",
   "execution_count": 31,
   "id": "57f55262",
   "metadata": {},
   "outputs": [
    {
     "data": {
      "text/plain": [
       "19"
      ]
     },
     "execution_count": 31,
     "metadata": {},
     "output_type": "execute_result"
    }
   ],
   "source": [
    "count_merola"
   ]
  },
  {
   "cell_type": "code",
   "execution_count": 192,
   "id": "4b0eb0a6",
   "metadata": {},
   "outputs": [
    {
     "data": {
      "text/plain": [
       "696"
      ]
     },
     "execution_count": 192,
     "metadata": {},
     "output_type": "execute_result"
    }
   ],
   "source": [
    "total_products"
   ]
  },
  {
   "cell_type": "code",
   "execution_count": 194,
   "id": "4b1fb1dd",
   "metadata": {},
   "outputs": [],
   "source": []
  },
  {
   "cell_type": "code",
   "execution_count": null,
   "id": "31f550eb",
   "metadata": {},
   "outputs": [],
   "source": []
  },
  {
   "cell_type": "code",
   "execution_count": null,
   "id": "37359f11",
   "metadata": {},
   "outputs": [],
   "source": []
  }
 ],
 "metadata": {
  "kernelspec": {
   "display_name": "Python 3",
   "language": "python",
   "name": "python3"
  },
  "language_info": {
   "codemirror_mode": {
    "name": "ipython",
    "version": 3
   },
   "file_extension": ".py",
   "mimetype": "text/x-python",
   "name": "python",
   "nbconvert_exporter": "python",
   "pygments_lexer": "ipython3",
   "version": "3.8.2"
  }
 },
 "nbformat": 4,
 "nbformat_minor": 5
}
